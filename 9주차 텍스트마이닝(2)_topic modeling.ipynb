{
 "cells": [
  {
   "cell_type": "markdown",
   "metadata": {},
   "source": [
    "## Topic Modeling with Sklearn"
   ]
  },
  {
   "cell_type": "code",
   "execution_count": 15,
   "metadata": {},
   "outputs": [],
   "source": [
    "import csv\n",
    "text = []\n",
    "y = []\n",
    "\n",
    "with open('movie_data_new.csv', encoding='utf-8') as csvfile:\n",
    "    csvreader = csv.reader(csvfile)\n",
    "    for row in csvreader:\n",
    "        if row and len(row[0]) > 10:\n",
    "            text.append(row[0])\n",
    "            y.append(row[2])"
   ]
  },
  {
   "cell_type": "code",
   "execution_count": 16,
   "metadata": {},
   "outputs": [
    {
     "name": "stdout",
     "output_type": "stream",
     "text": [
      "리뷰 수: 12445\n",
      "리뷰영화: {'신과함께', '인피니티 워', '라라랜드', '범죄도시', '택시운전사', '곤지암', '코코'}\n"
     ]
    }
   ],
   "source": [
    "print('리뷰 수:', len(text))\n",
    "print('리뷰영화:', set(y))"
   ]
  },
  {
   "cell_type": "code",
   "execution_count": 17,
   "metadata": {},
   "outputs": [
    {
     "data": {
      "text/plain": [
       "['헐..다 죽었어....나중에 앤트맨 보다가도 깜놀...',\n",
       " '개연성은 무시해라 액션을 즐겨라 스타로드가 이끌어준다 각각의 영웅들을 즐겨라 그리고 단적인 신념이 얼마나 부질없는지 보셔라',\n",
       " '정말 지루할틈없이 넘잘만들었다 역시 대단하다',\n",
       " '마지막에 누구한테 연락한거지? 궁금',\n",
       " '다음 편이 궁굼해지네요^^',\n",
       " '안잼있는사람 있음???????????',\n",
       " '잘 만들었다! 지루할 틈이 없네...',\n",
       " '이제는 지겨워서 못보겠다',\n",
       " '롱턱 타노스의  장갑이 참 맘에 듬.  아이언 맨과 토르 닥터만 생고생하고..  가디언즈 오브 갤럭시 들 때문에  손해가 크다고 봄  들짐승 하고 칡뿌리 같은 캐릭이  재미를 더해줄줄 알았으나  아쉬움 . 분노의 상징 헐크가 겁을 먹다니..로키의 초반 출연뿐이 서운하지만  본 영화에 이어질 내용에 적합하지 않은지 서두에  죽는부분으로 마무리 됨은 심섬한 충격임 .  다음편에 헬라가 다시 나올까?',\n",
       " '와~~~~~진짜 개쪄는 인피니티워!!몇번을 봐도 개지린다.너무잼있다.어벤져스4도 너무 기대된다.빨리 2019년이왔으면 좋겠다.']"
      ]
     },
     "execution_count": 17,
     "metadata": {},
     "output_type": "execute_result"
    }
   ],
   "source": [
    "text[:10]"
   ]
  },
  {
   "cell_type": "markdown",
   "metadata": {},
   "source": [
    "### 한글 처리를 위해서는  konlpy가 필요"
   ]
  },
  {
   "cell_type": "code",
   "execution_count": 18,
   "metadata": {},
   "outputs": [],
   "source": [
    "from konlpy.tag import Okt \n",
    "twitter_tag = Okt()\n",
    "\n",
    "from sklearn.feature_extraction.text import CountVectorizer\n",
    "\n",
    "vec = CountVectorizer(tokenizer=twitter_tag.nouns,\n",
    "                      decode_error ='ignore', \n",
    "                      max_df=0.5, \n",
    "                      #min_df = 3, \n",
    "                      max_features = 1000) \n",
    "review_cv = vec.fit_transform(text)"
   ]
  },
  {
   "cell_type": "code",
   "execution_count": 19,
   "metadata": {},
   "outputs": [
    {
     "data": {
      "text/plain": [
       "(12445, 1000)"
      ]
     },
     "execution_count": 19,
     "metadata": {},
     "output_type": "execute_result"
    }
   ],
   "source": [
    "review_cv.shape"
   ]
  },
  {
   "cell_type": "markdown",
   "metadata": {},
   "source": [
    "#### sklearn의 LatentDirichletAllocation을 이용하여 topic modeling 수행"
   ]
  },
  {
   "cell_type": "code",
   "execution_count": 20,
   "metadata": {},
   "outputs": [],
   "source": [
    "from sklearn.decomposition import LatentDirichletAllocation\n",
    "\n",
    "lda = LatentDirichletAllocation(n_components = 10,\n",
    "                                max_iter=25, \n",
    "                                topic_word_prior= 0.1, doc_topic_prior=1.0,\n",
    "                                learning_method='batch', \n",
    "                                n_jobs= -1, \n",
    "                                random_state=0)\n",
    "\n",
    "review_topics = lda.fit_transform(review_cv)"
   ]
  },
  {
   "cell_type": "code",
   "execution_count": 21,
   "metadata": {},
   "outputs": [
    {
     "name": "stdout",
     "output_type": "stream",
     "text": [
      "topic-word distribution dimension: (10, 1000)\n",
      "document-topic distribution dimenstion (12445, 10)\n"
     ]
    }
   ],
   "source": [
    "print('topic-word distribution dimension:', lda.components_.shape)\n",
    "print('document-topic distribution dimenstion', review_topics.shape)"
   ]
  },
  {
   "cell_type": "markdown",
   "metadata": {},
   "source": [
    "#### topic을 보기 쉽게 출력하는 함수를 작성"
   ]
  },
  {
   "cell_type": "code",
   "execution_count": 22,
   "metadata": {},
   "outputs": [],
   "source": [
    "def print_top_words(model, feature_names, n_top_words):\n",
    "    for topic_idx, topic in enumerate(model.components_):\n",
    "        print(\"Topic #%d: \" % topic_idx, end='')\n",
    "        print(\", \".join([feature_names[i] for i in topic.argsort()[:-n_top_words - 1:-1]]))\n",
    "    print()"
   ]
  },
  {
   "cell_type": "code",
   "execution_count": 23,
   "metadata": {},
   "outputs": [
    {
     "name": "stdout",
     "output_type": "stream",
     "text": [
      "Topic #0: 좀, 느낌, 감독, 공포영화, 공포, 보기, 감, 소재, 나름, 소리\n",
      "Topic #1: 더, 정말, 말, 다시, 음악, 한번, 사랑, 모두, 작품, 인생\n",
      "Topic #2: 스토리, 내용, 마블, 부분, 만, 이해, 조금, 영상, 전개, 우리나라\n",
      "Topic #3: 생각, 영화, 것, 수, 듯, 한국, 역시, 신, 대한, 내내\n",
      "Topic #4: 그, 광주, 편, 역사, 우리, 가슴, 송강호, 노스, 택시, 다음\n",
      "Topic #5: 연기, 배우, 최고, 마동석, 윤계상, 액션, 차태현, 함, 한국영, 연기력\n",
      "Topic #6: 사람, 진짜, 그냥, 원작, 때, 안, 뭐, 신파, 거, 하나\n",
      "Topic #7: 감동, 눈물, 재미, 마지막, 꼭, 보고, 가족, 처음, 끝, 추천\n",
      "Topic #8: 시간, 볼, 내, 왜, 기대, 중간, 또, 나, 별로, 임\n",
      "Topic #9: 영화, 점, 이, 돈, 평점, 관객, 중, 눈, 천만, 난\n",
      "\n"
     ]
    }
   ],
   "source": [
    "print_top_words(lda,vec.get_feature_names(), 10)"
   ]
  },
  {
   "cell_type": "markdown",
   "metadata": {},
   "source": [
    "#### 한 자로 구성된 명사들은 의미파악이 어려우므로 삭제할 필요가 있음"
   ]
  },
  {
   "cell_type": "code",
   "execution_count": 24,
   "metadata": {},
   "outputs": [
    {
     "data": {
      "text/plain": [
       "['개연', '성은', '무시', '액션', '스타로드', '각각', '영웅', '적', '신념', '얼마나']"
      ]
     },
     "execution_count": 24,
     "metadata": {},
     "output_type": "execute_result"
    }
   ],
   "source": [
    "twitter_tag.nouns(text[1])"
   ]
  },
  {
   "cell_type": "code",
   "execution_count": 25,
   "metadata": {},
   "outputs": [],
   "source": [
    "def tokenizer(str):\n",
    "    return [token for token in twitter_tag.nouns(str) if len(token) > 1]"
   ]
  },
  {
   "cell_type": "code",
   "execution_count": 26,
   "metadata": {},
   "outputs": [
    {
     "data": {
      "text/plain": [
       "['개연', '성은', '무시', '액션', '스타로드', '각각', '영웅', '신념', '얼마나']"
      ]
     },
     "execution_count": 26,
     "metadata": {},
     "output_type": "execute_result"
    }
   ],
   "source": [
    "tokenizer(text[1])"
   ]
  },
  {
   "cell_type": "code",
   "execution_count": 27,
   "metadata": {},
   "outputs": [],
   "source": [
    "vec = CountVectorizer(tokenizer=tokenizer, decode_error ='ignore', \n",
    "                      max_df=0.5, max_features = 1000) \n",
    "review_cv = vec.fit_transform(text)"
   ]
  },
  {
   "cell_type": "code",
   "execution_count": 28,
   "metadata": {},
   "outputs": [
    {
     "name": "stdout",
     "output_type": "stream",
     "text": [
      "Topic #0: 영화, 공포, 머리, 노력, 때문, 폭력, 이름, 생각, 감동, 체험\n",
      "Topic #1: 노스, 영화, 이상, 히어로, 결말, 상영, 지루함, 절대, 시간, 좀더\n",
      "Topic #2: 마동석, 윤계상, 액션, 연기, 형사, 존재, 충격, 갑자기, 결말, 시각\n",
      "Topic #3: 모두, 제대로, 진심, 누구, 배우, 김향기, 영화, 지금, 고생, 다가\n",
      "Topic #4: 개인, 인간, 계속, 오늘, 영화, 세계, 그것, 해도, 사람, 그날\n",
      "Topic #5: 영화, 매우, 사람, 어른, 또한, 걱정, 라이언, 요즘, 결론, 각색\n",
      "Topic #6: 장면, 한국, 영화, 귀신, 가지, 생각, 헐리우드, 전달, 사진, 연말\n",
      "Topic #7: 마블, 완전, 어벤져스, 대사, 시리즈, 인피니티, 줄거리, 오역, 짜증, 시간\n",
      "Topic #8: 신파, 차태현, 눈물, 액션, 긴장감, 예상, 영화, 과거, 반드시, 예전\n",
      "Topic #9: 보고, 추천, 영화, 아들, 가슴, 강추, 가족, 영화관, 학년, 추석\n",
      "Topic #10: 영화, 무슨, 감동, 등장, 느낌, 기대, 정도, 리얼, 피아노, 그냥\n",
      "Topic #11: 사랑, 인생, 이야기, 영화, 무엇, 완성, 비교, 도대체, 제목, 아무\n",
      "Topic #12: 역시, 아이, 실망, 실화, 코믹, 영화, 스릴, 수작, 효과, 대안\n",
      "Topic #13: 사람, 이해, 대한, 마지막, 뭔가, 편이, 토르, 만점, 영화, 이승\n",
      "Topic #14: 스토리, 중간, 전개, 극장, 드라마, 전체, 정신, 화면, 짜임새, 연결\n",
      "Topic #15: 현실, 주인공, 뮤지컬, 노래, 라면, 볼거리, 남자, 스톤, 시나리오, 이하\n",
      "Topic #16: 영상, 내용, 처음, 조선족, 영화, 교훈, 감성, 눈물, 갈수록, 원래\n",
      "Topic #17: 공포영화, 캐릭터, 아쉬움, 영화, 다큐, 상황, 누가, 다소, 외국, 타임\n",
      "Topic #18: 영화, 이제, 보지, 강철, 댓글, 제일, 인정, 실감, 선택, 주제\n",
      "Topic #19: 광주, 택시, 시민, 전두환, 민주화, 운전사, 개연, 운동, 배경, 감사\n",
      "Topic #20: 역사, 내내, 국민, 희생, 점수, 영웅, 영화, 분노, 인물, 사실\n",
      "Topic #21: 감동, 정말, 영화, 영화로, 재미, 오락, 최고, 언제, 장르, 마블리\n",
      "Topic #22: 영화, 생각, 얘기, 오히려, 화가, 경찰, 촬영, 최고, 기법, 이정\n",
      "Topic #23: 원작, 하나, 영화, 후반, 정도, 역할, 화보, 잘만, 사람, 변호사\n",
      "Topic #24: 재미, 보기, 영화, 만화, 전혀, 반전, 공감, 요소, 무조건, 전부\n",
      "Topic #25: 대박, 가장, 범죄, 예고편, 이번, 영화, 도시, 신파극, 차라리, 악당\n",
      "Topic #26: 음악, 영화, 연기력, 모든, 배우, 정말, 최고, 마지막, 울음, 통해\n",
      "Topic #27: 평점, 영화, 다른, 최고, 간만, 혼자, 올해, 조폭, 명작, 보시\n",
      "Topic #28: 영화, 한국영, 웃음, 그래픽, 코드, 만큼, 한편, 남편, 개그, 제작\n",
      "Topic #29: 몰입, 영화, 이후, 몰입도, 영화관, 거의, 취향, 연기, 분위기, 수도\n",
      "Topic #30: 진짜, 최악, 소리, 영화, 시작, 부모님, 정말, 제발, 그때, 처음\n",
      "Topic #31: 기억, 판타지, 영화, 중국, 인상, 자극, 죽음, 박수, 호불호, 애니메이션\n",
      "Topic #32: 영화, 우리나라, 발전, 얼마나, 역대, 기도, 기술, 기대, 스포, 그닥\n",
      "Topic #33: 우리, 영화, 여운, 의미, 구성, 나라, 다시, 군인, 문화, 거지\n",
      "Topic #34: 영화, 한번, 표현, 저승, 연기자, 생각, 눈물, 나중, 막판, 감동\n",
      "Topic #35: 감독, 영화, 곤지암, 친구, 일단, 여자, 안보, 전반, 가면, 카메라\n",
      "Topic #36: 웹툰, 나름, 엄마, 감정, 영화, 자신, 평가, 동생, 어디, 표정\n",
      "Topic #37: 연기, 배우, 조연, 주연, 진짜, 악역, 그게, 점도, 간다, 자기\n",
      "Topic #38: 가슴, 영화, 진실, 시대, 눈물, 민주주의, 초딩, 스크린, 문제, 지금\n",
      "Topic #39: 관객, 수준, 천만, 연출, 감독, 흥행, 엔딩, 약간, 아픔, 영화\n",
      "Topic #40: 초반, 내용, 조금, 영화, 생각, 펑펑, 다만, 슬픔, 스케일, 눈물\n",
      "Topic #41: 별로, 그냥, 이영화, 영화, 사실, 정도, 잔인함, 진짜, 기담, 느낌\n",
      "Topic #42: 작품, 송강호, 소재, 위해, 기자, 대한민국, 유머, 최근, 재판, 추격\n",
      "Topic #43: 영화, 아주, 자체, 실제, 순간, 동안, 캐스팅, 사건, 묘사, 부모\n",
      "Topic #44: 영화, 억지, 관람, 후회, 집중, 대해, 가족, 생각, 이정재, 더욱\n",
      "Topic #45: 감동, 영화, 알바, 중반, 쓰레기, 코코, 때문, 겨울왕국, 살짝, 무서움\n",
      "Topic #46: 마음, 가족, 모습, 개봉, 디즈니, 세상, 다시, 영화, 반성, 상상\n",
      "Topic #47: 하정우, 김동욱, 지옥, 이유, 어머니, 주지훈, 연기, 아저씨, 최고, 소문\n",
      "Topic #48: 느낌, 영화, 기대, 매력, 영화인, 억지로, 편도, 흐름, 조금, 감동\n",
      "Topic #49: 부분, 다음, 이건, 시간, 영화, 기분, 출연, 보고, 번역, 킬링타임\n",
      "\n"
     ]
    }
   ],
   "source": [
    "lda = LatentDirichletAllocation(n_components = 50, max_iter=25, \n",
    "                                topic_word_prior= 0.1, doc_topic_prior=1.0,\n",
    "                                learning_method='batch',\n",
    "                                n_jobs= -1,\n",
    "                                random_state=0)\n",
    "review_topics = lda.fit_transform(review_cv)\n",
    "print_top_words(lda,vec.get_feature_names(), 10)"
   ]
  },
  {
   "cell_type": "code",
   "execution_count": 29,
   "metadata": {},
   "outputs": [
    {
     "name": "stdout",
     "output_type": "stream",
     "text": [
      "topic-word distribution dimension: (50, 1000)\n",
      "Cluster label: [0 0 0 0 0 0 0 0 0 0 0 0 0 0 3 0 0 0 0 2 0 4 0 0 0 0 0 0 0 0 0 0 0 0 0 0 0\n",
      " 1 0 0 0 0 0 0 0 0 0 0 0 0]\n"
     ]
    }
   ],
   "source": [
    "from sklearn.cluster import KMeans\n",
    "\n",
    "kmeans = KMeans(n_clusters=5)\n",
    "kmeans.fit(lda.components_)\n",
    "\n",
    "print('topic-word distribution dimension:', lda.components_.shape)\n",
    "print('Cluster label:', kmeans.labels_)"
   ]
  },
  {
   "cell_type": "markdown",
   "metadata": {},
   "source": [
    "T-SNE를 이용하여 각 topic들 간의 관계를 시각화"
   ]
  },
  {
   "cell_type": "code",
   "execution_count": 30,
   "metadata": {},
   "outputs": [
    {
     "name": "stdout",
     "output_type": "stream",
     "text": [
      "TSNE dimension: (50, 2)\n"
     ]
    },
    {
     "data": {
      "text/plain": [
       "array([ 44.33137   ,  63.438953  , -52.70123   , -34.01293   ,\n",
       "       -40.339794  ,  26.36624   , -54.248383  , -27.95172   ,\n",
       "         0.40158808,  77.55976   ,  31.89763   , -22.548494  ,\n",
       "        13.656973  , -99.36411   ,   0.4689685 ,  63.04744   ,\n",
       "       -51.72096   , -59.070183  ,  52.47231   ,  -3.73381   ,\n",
       "       -54.707127  ,  37.886784  ,  10.800521  , -95.23161   ,\n",
       "         2.405483  , -18.238516  , -84.51226   ,  58.332943  ,\n",
       "        41.179848  , -19.064869  ,  31.078722  , -25.359905  ,\n",
       "        19.09542   ,  77.66207   ,  65.57857   ,  17.941229  ,\n",
       "       -64.599686  ,  39.585655  ,   1.7308093 ,  96.95203   ,\n",
       "       -11.575593  ,  29.610521  , -65.165955  ,  12.600807  ,\n",
       "        27.291565  ,  -0.9814707 , -39.9445    , -25.93436   ,\n",
       "        -4.489403  , 103.387535  ], dtype=float32)"
      ]
     },
     "execution_count": 30,
     "metadata": {},
     "output_type": "execute_result"
    }
   ],
   "source": [
    "from sklearn.manifold import TSNE\n",
    "tsne = TSNE(n_components=2, random_state=42)\n",
    "tsne_review = tsne.fit_transform(lda.components_)\n",
    "print('TSNE dimension:', tsne_review.shape)\n",
    "tsne_review[:,0]"
   ]
  },
  {
   "cell_type": "code",
   "execution_count": 31,
   "metadata": {},
   "outputs": [],
   "source": [
    "%matplotlib inline\n",
    "import matplotlib.pyplot as plt\n",
    "from matplotlib import font_manager, rc\n",
    "font_name = font_manager.FontProperties(fname=\"c:/Windows/Fonts/malgun.ttf\").get_name()\n",
    "rc('font', family=font_name)\n",
    "import matplotlib as mpl\n",
    "\n",
    "mpl.rcParams['axes.unicode_minus'] = False"
   ]
  },
  {
   "cell_type": "code",
   "execution_count": 32,
   "metadata": {},
   "outputs": [
    {
     "data": {
      "image/png": "[encoded data removed]",
      "text/plain": [
       "<Figure size 432x288 with 1 Axes>"
      ]
     },
     "metadata": {
      "needs_background": "light"
     },
     "output_type": "display_data"
    },
    {
     "data": {
      "image/png": "[encoded data removed]",
      "text/plain": [
       "<Figure size 1080x720 with 1 Axes>"
      ]
     },
     "metadata": {
      "needs_background": "light"
     },
     "output_type": "display_data"
    }
   ],
   "source": [
    "colors = {0:'blue', 1:'yellow', 2:'red', 3:'green', 4:'purple'}\n",
    "x1 = tsne_review[:,0]\n",
    "x2 = tsne_review[:,1]\n",
    "plt.scatter(x1, x2)\n",
    "\n",
    "plt.figure(figsize=(15,10))\n",
    "plt.xlim(min(x1), max(x1))\n",
    "plt.ylim(min(x2), max(x2))\n",
    "for i in range(len(x1)):\n",
    "\n",
    "    plt.text(x1[i], x2[i], kmeans.labels_[i],\n",
    "            color = colors[kmeans.labels_[i]])\n",
    "\n",
    "plt.show()"
   ]
  },
  {
   "cell_type": "code",
   "execution_count": 33,
   "metadata": {},
   "outputs": [
    {
     "data": {
      "text/plain": [
       "580.6496312055161"
      ]
     },
     "execution_count": 33,
     "metadata": {},
     "output_type": "execute_result"
    }
   ],
   "source": [
    "lda.perplexity(review_cv)"
   ]
  },
  {
   "cell_type": "code",
   "execution_count": 34,
   "metadata": {},
   "outputs": [
    {
     "name": "stdout",
     "output_type": "stream",
     "text": [
      "Topic #0: 영화, 공포, 아주, 디즈니, 감동, 자극, 갈수록, 제발, 머리, 노력\n",
      "Topic #1: 영화, 노스, 히어로, 다음, 지루함, 뮤지컬, 절대, 상영, 진짜, 스토리\n",
      "Topic #2: 윤계상, 마동석, 연기, 영화, 액션, 악역, 형사, 배우, 존재, 평가\n",
      "Topic #3: 하정우, 연기, 영화, 모두, 주지훈, 진심, 배우, 누구, 거의, 시대\n",
      "Topic #4: 영화, 계속, 웃음, 세계, 감동, 개인, 우리, 사람, 해도, 생각\n",
      "Topic #5: 영화, 평점, 기억, 매우, 코코, 어른, 공감, 또한, 여기, 감동\n",
      "Topic #6: 영화, 한국, 생각, 장면, 흥행, 가지, 여자, 스크린, 보고, 배우\n",
      "Topic #7: 마블, 영화, 어벤져스, 완전, 시간, 대사, 시리즈, 부분, 사람, 진짜\n",
      "Topic #8: 차태현, 영화, 신파, 눈물, 연기, 혼자, 진짜, 정말, 배우, 액션\n",
      "Topic #9: 영화, 보고, 범죄, 아들, 추천, 연기, 정말, 도시, 연기자, 관람\n",
      "Topic #10: 영화, 감동, 등장, 쓰레기, 천만, 느낌, 전반, 생각, 기대, 그냥\n",
      "Topic #11: 사랑, 영화, 인생, 이야기, 음악, 최고, 완성, 마지막, 올해, 비교\n",
      "Topic #12: 영화, 실망, 스토리, 그래픽, 감동, 재미, 아이, 실화, 개연, 초딩\n",
      "Topic #13: 영화, 이해, 사람, 편이, 인간, 마지막, 토르, 감정, 진짜, 뭔가\n",
      "Topic #14: 영화, 스토리, 중간, 전개, 화면, 구성, 전체, 극장, 드라마, 설정\n",
      "Topic #15: 영화, 중국, 남자, 다만, 스톤, 볼거리, 노래, 현실, 시나리오, 유머\n",
      "Topic #16: 영화, 내용, 교훈, 부모님, 배우, 조선족, 감성, 연기, 모든, 영상\n",
      "Topic #17: 영화, 공포영화, 귀신, 약간, 다큐, 상황, 관객, 다소, 누가, 기술\n",
      "Topic #18: 영화, 감독, 강철, 이제, 댓글, 제일, 알바, 웹툰, 인정, 그냥\n",
      "Topic #19: 광주, 송강호, 택시, 시민, 역사, 진실, 민주화, 기자, 운전사, 모습\n",
      "Topic #20: 영화, 역사, 대한민국, 국민, 점수, 보지, 후회, 개봉, 내내, 사람\n",
      "Topic #21: 영화, 감동, 정말, 엄마, 연기, 다른, 재미, 생각, 오락, 언제\n",
      "Topic #22: 영화, 생각, 얘기, 조폭, 오히려, 화가, 경찰, 감동, 최고, 마동석\n",
      "Topic #23: 하나, 영화, 사람, 원작, 보고, 지옥, 억지, 진짜, 세상, 화보\n",
      "Topic #24: 영화, 전혀, 만화, 반전, 원작, 저승, 재미, 정말, 판타지, 연기\n",
      "\n"
     ]
    },
    {
     "data": {
      "text/plain": [
       "557.8344956960275"
      ]
     },
     "execution_count": 34,
     "metadata": {},
     "output_type": "execute_result"
    }
   ],
   "source": [
    "lda = LatentDirichletAllocation(n_components = 25, max_iter=25, \n",
    "                                topic_word_prior= 0.1, doc_topic_prior=2.0,\n",
    "                                learning_method='batch',\n",
    "                                n_jobs= -1,\n",
    "                                random_state=0)\n",
    "review_topics = lda.fit_transform(review_cv)\n",
    "print_top_words(lda,vec.get_feature_names(), 10)\n",
    "lda.perplexity(review_cv)"
   ]
  },
  {
   "cell_type": "code",
   "execution_count": 35,
   "metadata": {},
   "outputs": [
    {
     "name": "stdout",
     "output_type": "stream",
     "text": [
      "Topic #0: 감동, 영화, 가족, 보기, 아이, 역시, 아주, 기억, 약간, 뭔가\n",
      "Topic #1: 마블, 음악, 사랑, 영화, 노스, 현실, 결말, 다음, 주인공, 여운\n",
      "Topic #2: 연기, 배우, 최고, 마동석, 윤계상, 액션, 연출, 연기력, 조연, 캐릭터\n",
      "Topic #3: 광주, 역사, 우리, 가슴, 송강호, 모두, 마음, 택시, 지금, 내내\n",
      "Topic #4: 스토리, 느낌, 영화, 이야기, 작품, 관객, 때문, 별로, 조금, 몰입\n",
      "Topic #5: 그냥, 내용, 영화, 원작, 평점, 웹툰, 수준, 이해, 소재, 천만\n",
      "Topic #6: 영화, 생각, 감독, 한국, 다시, 한번, 공포영화, 공포, 최악, 나름\n",
      "Topic #7: 사람, 시간, 마지막, 장면, 정도, 부분, 인생, 완전, 영상, 이영화\n",
      "Topic #8: 정말, 진짜, 눈물, 신파, 중간, 차태현, 한국영, 대박, 억지, 하정우\n",
      "Topic #9: 영화, 보고, 재미, 기대, 처음, 추천, 이제, 영화관, 관람, 후회\n",
      "\n"
     ]
    },
    {
     "data": {
      "text/plain": [
       "412.43717457597575"
      ]
     },
     "execution_count": 35,
     "metadata": {},
     "output_type": "execute_result"
    }
   ],
   "source": [
    "lda = LatentDirichletAllocation(n_components = 10, max_iter=25, \n",
    "                                topic_word_prior= 0.1, doc_topic_prior=1.0,\n",
    "                                learning_method='batch',\n",
    "                                n_jobs= -1,\n",
    "                                random_state=0)\n",
    "review_topics = lda.fit_transform(review_cv)\n",
    "print_top_words(lda,vec.get_feature_names(), 10)\n",
    "lda.perplexity(review_cv)"
   ]
  }
 ],
 "metadata": {
  "kernelspec": {
   "display_name": "Python 3",
   "language": "python",
   "name": "python3"
  },
  "language_info": {
   "codemirror_mode": {
    "name": "ipython",
    "version": 3
   },
   "file_extension": ".py",
   "mimetype": "text/x-python",
   "name": "python",
   "nbconvert_exporter": "python",
   "pygments_lexer": "ipython3",
   "version": "3.7.3"
  }
 },
 "nbformat": 4,
 "nbformat_minor": 2
}
